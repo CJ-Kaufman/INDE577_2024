{
  "cells": [
    {
      "cell_type": "markdown",
      "metadata": {
        "id": "view-in-github",
        "colab_type": "text"
      },
      "source": [
        "<a href=\"https://colab.research.google.com/github/CJ-Kaufman/INDE577_2024/blob/main/Supervised_Learning/Neural%20Networks/Refined_ReLU_Neural_Network.ipynb\" target=\"_parent\"><img src=\"https://colab.research.google.com/assets/colab-badge.svg\" alt=\"Open In Colab\"/></a>"
      ]
    },
    {
      "cell_type": "markdown",
      "source": [
        "# Neural Network Implementation\n",
        "## Introduction\n",
        "A neural network is a system involving the collaboration of many neurons which function in a series of rows, taking inputs from the previous row with various weights and sending their outputs to the next. The very front row, in this example, takes data from a flattened image of a handwritten number. The final row represents some kind of likelihood based on the trained neural network's results of what that handwritten number is from the picture input."
      ],
      "metadata": {
        "id": "1vhoDQk6ou2E"
      }
    },
    {
      "cell_type": "markdown",
      "source": [
        "## Imports and Data Loading"
      ],
      "metadata": {
        "id": "8Fh3xr9NN97w"
      }
    },
    {
      "cell_type": "code",
      "source": [
        "# install the libraries and data needed for the problem\n",
        "from tensorflow import keras\n",
        "import numpy as np\n",
        "import matplotlib.pyplot as plt\n",
        "\n",
        "# Use the keras module to import the necessary data\n",
        "(train_X, train_y), (test_X, test_y) = keras.datasets.mnist.load_data()"
      ],
      "metadata": {
        "id": "TWry8u6yglSG"
      },
      "execution_count": null,
      "outputs": []
    },
    {
      "cell_type": "code",
      "source": [
        "#view the image of one of the matrices to briefly verify the data\n",
        "print(f\"{train_y[0] = } \\n\")\n",
        "plt.figure(figsize=(6, 5))\n",
        "plt.imshow(train_X[0], cmap=\"gray\")\n",
        "plt.show()"
      ],
      "metadata": {
        "colab": {
          "base_uri": "https://localhost:8080/",
          "height": 481
        },
        "id": "Ks0YeKmkg0tN",
        "outputId": "85082c05-2075-44d8-b93c-2056ed9016c2"
      },
      "execution_count": null,
      "outputs": [
        {
          "output_type": "stream",
          "name": "stdout",
          "text": [
            "train_y[0] = 5 \n",
            "\n"
          ]
        },
        {
          "output_type": "display_data",
          "data": {
            "text/plain": [
              "<Figure size 600x500 with 1 Axes>"
            ],
            "image/png": "[encoded data removed]"
          },
          "metadata": {}
        }
      ]
    },
    {
      "cell_type": "markdown",
      "source": [
        "## Split the Data into Training and Testing\n",
        "To verify the model after training, we need a fresh group of data which was not used for training purposes. Therefore, the collective data is split into two groups."
      ],
      "metadata": {
        "id": "JFrRW6W1OF-0"
      }
    },
    {
      "cell_type": "code",
      "source": [
        "# separate the data into training and testing sections:\n",
        "train_X = train_X/255\n",
        "test_X = test_X/255\n",
        "\n",
        "# For the training data, flatten images into column vectors and one-hot-encode training labels\n",
        "flat_train_X = []\n",
        "onehot_train_y = []\n",
        "\n",
        "for x, y in zip(train_X, train_y):\n",
        "    flat_train_X.append(x.flatten().reshape(784, 1))\n",
        "    temp_vec = np.zeros((10, 1))\n",
        "    temp_vec[y][0] = 1.0\n",
        "    onehot_train_y.append(temp_vec)\n",
        "\n",
        "# For the testing data, flatten and one-hot encode\n",
        "flat_test_X = []\n",
        "onehot_test_y = []\n",
        "\n",
        "for x, y in zip(test_X, test_y):\n",
        "    flat_test_X.append(x.flatten().reshape(784, 1))\n",
        "    temp_vec = np.zeros((10, 1))\n",
        "    temp_vec[y] = 1.0\n",
        "    onehot_test_y.append(temp_vec)\n"
      ],
      "metadata": {
        "id": "EKorjHMIg-zG"
      },
      "execution_count": null,
      "outputs": []
    },
    {
      "cell_type": "markdown",
      "source": [
        "## Writing Functions and Initializing\n",
        "In this example, ReLU (rectified linear unit) is used for the activation and MSE (mean squared error) is used for the cost. The neural network will have 3 layers, with the last (or output) layer producing probabilities that a given number is depicted in the original image."
      ],
      "metadata": {
        "id": "kUZCrjAMOhLc"
      }
    },
    {
      "cell_type": "code",
      "source": [
        "# For activation function, use the ReLU (rectified linear unit) function\n",
        "# For cost function, use mean square error cost (mse)\n",
        "# to implement this, need activation function (relu) and its derivative (d_relu)\n",
        "\n",
        "def relu(z):\n",
        "    return np.maximum(0, z)\n",
        "\n",
        "def d_relu(z):\n",
        "    return np.where(z > 0, 1, 0)\n",
        "\n",
        "def mse(a,y):\n",
        "    return .5*sum((a[i] - y[i])**2 for i in range (10))[0]\n",
        "\n",
        "#relu(z): This function takes the input z and returns the maximum of 0 and z, effectively applying the ReLU transformation.\n",
        "#d_relu(z): This function computes the derivative of ReLU. It returns 1 where z is greater than 0 and 0 otherwise, which is useful for backpropagation in neural networks."
      ],
      "metadata": {
        "id": "dJTvO-GQhjCE"
      },
      "execution_count": null,
      "outputs": []
    },
    {
      "cell_type": "code",
      "source": [
        "# function to initialize weight matrices and bias column vectors\n",
        "def initialize_weights(layers = [784, 60, 60, 10]):\n",
        "    # The following Python lists will contain numpy matrices\n",
        "    # connected the layers in the neural network\n",
        "    W = [[0.0]]\n",
        "    B = [[0.0]]\n",
        "    for i in range(1, len(layers)):\n",
        "        w_temp = np.random.randn(layers[i], layers[i-1])*np.sqrt(2/layers[i-1])\n",
        "        b_temp = np.random.randn(layers[i], 1)*np.sqrt(2/layers[i-1])\n",
        "\n",
        "        W.append(w_temp)\n",
        "        B.append(b_temp)\n",
        "    return W, B\n"
      ],
      "metadata": {
        "id": "kfzKHzXCibmm"
      },
      "execution_count": null,
      "outputs": []
    },
    {
      "cell_type": "code",
      "source": [
        "#Implementing softmax to convert numerical output of final layer into probabilities\n",
        "def softmax(z):\n",
        "    exp_z = np.exp(z - np.max(z))  # For numerical stability\n",
        "    return exp_z / np.sum(exp_z, axis=0)\n",
        "\n",
        "# preactivation and postactivation phase between layers, \"feedforward process\"\n",
        "# Initialize weights and biases\n",
        "W, B = initialize_weights()\n",
        "\n",
        "# Get a single training example\n",
        "xi = flat_train_X[0]\n",
        "yi = onehot_train_y[0]\n",
        "a0 = xi\n",
        "\n",
        "print(f\"np.shape(a0) = {np.shape(a0)} \\n\")\n",
        "\n",
        "# First layer\n",
        "z1 = W[1] @ a0 + B[1]\n",
        "a1 = relu(z1)  # Use ReLU here\n",
        "\n",
        "print(f\"np.shape(W[1]) = {np.shape(W[1])}\")\n",
        "print(f\"np.shape(z1) = {np.shape(z1)}\")\n",
        "print(f\"np.shape(a1) = {np.shape(a1)} \\n\")\n",
        "\n",
        "# Second layer\n",
        "z2 = W[2] @ a1 + B[2]\n",
        "a2 = relu(z2)  # Use ReLU here\n",
        "\n",
        "print(f\"np.shape(W[2]) = {np.shape(W[2])}\")\n",
        "print(f\"np.shape(z2) = {np.shape(z2)}\")\n",
        "print(f\"np.shape(a2) = {np.shape(a2)} \\n\")\n",
        "\n",
        "# Third layer (output layer)\n",
        "z3 = W[3] @ a2 + B[3]\n",
        "a3 = softmax(z3)  # Apply softmax to get probabilities\n",
        "y_hat = a3\n",
        "\n",
        "print(f\"np.shape(W[3]) = {np.shape(W[3])}\")\n",
        "print(f\"np.shape(z3) = {np.shape(z3)}\")\n",
        "print(f\"np.shape(a3) = {np.shape(a3)} \\n\")\n",
        "\n",
        "# Prediction and evaluation\n",
        "print(f\"Prediction: np.argmax(y_hat) = {np.argmax(y_hat)}\")\n",
        "print(f\"Target Label: np.argmax(yi) = {np.argmax(yi)}\")\n",
        "print(f\"mse(y_hat, yi) = {mse(y_hat, yi)}\")  # Ensure mse is suitable for your problem\n"
      ],
      "metadata": {
        "colab": {
          "base_uri": "https://localhost:8080/"
        },
        "id": "5sZRkWupin_X",
        "outputId": "5745f0bd-dfa8-436e-95ef-fe189bfd8865"
      },
      "execution_count": null,
      "outputs": [
        {
          "output_type": "stream",
          "name": "stdout",
          "text": [
            "np.shape(a0) = (784, 1) \n",
            "\n",
            "np.shape(W[1]) = (60, 784)\n",
            "np.shape(z1) = (60, 1)\n",
            "np.shape(a1) = (60, 1) \n",
            "\n",
            "np.shape(W[2]) = (60, 60)\n",
            "np.shape(z2) = (60, 1)\n",
            "np.shape(a2) = (60, 1) \n",
            "\n",
            "np.shape(W[3]) = (10, 60)\n",
            "np.shape(z3) = (10, 1)\n",
            "np.shape(a3) = (10, 1) \n",
            "\n",
            "Prediction: np.argmax(y_hat) = 1\n",
            "Target Label: np.argmax(yi) = 5\n",
            "mse(y_hat, yi) = 0.4791725967204399\n"
          ]
        }
      ]
    },
    {
      "cell_type": "markdown",
      "source": [
        "## Test Model Predictions (Before Training)\n",
        "Test out the functions using a random experiment to verify. The model, since it's not trained yet, should have a high error."
      ],
      "metadata": {
        "id": "2YiJTGA0ftvv"
      }
    },
    {
      "cell_type": "code",
      "source": [
        "# put into a function and wrap in a for loop\n",
        "def forward_pass(W, B, xi, predict_vector = False):\n",
        "    Z = [[0.0]]\n",
        "    A = [xi]\n",
        "    L = len(W) - 1\n",
        "    for i in range(1, L + 1):\n",
        "        z = W[i] @ A[i-1] + B[i]\n",
        "        Z.append(z)\n",
        "\n",
        "        a = relu(z)\n",
        "        A.append(a)\n",
        "\n",
        "    if predict_vector == False:\n",
        "        return Z, A\n",
        "    else:\n",
        "        return A[-1]\n",
        "\n",
        "def predict(W, B, xi):\n",
        "    _, A = forward_pass(W, B, xi)\n",
        "    return np.argmax(A[-1])\n",
        "\n",
        "y_hat = forward_pass(W, B, flat_train_X[0], predict_vector=True)\n",
        "print(f\"Prediction: np.argmax(y_hat) = {np.argmax(y_hat)}\")\n",
        "print(f\"Target Label: np.argmax(yi) = {np.argmax(yi)}\")\n",
        "print(f\"mse(y_hat, yi) = {mse(y_hat, yi)}\")"
      ],
      "metadata": {
        "colab": {
          "base_uri": "https://localhost:8080/"
        },
        "id": "v0cweaES3qM7",
        "outputId": "46a4b4e6-db6f-410e-fbb0-a5b6bef34208"
      },
      "execution_count": null,
      "outputs": [
        {
          "output_type": "stream",
          "name": "stdout",
          "text": [
            "Prediction: np.argmax(y_hat) = 1\n",
            "Target Label: np.argmax(yi) = 5\n",
            "mse(y_hat, yi) = 0.8597205450442953\n"
          ]
        }
      ]
    },
    {
      "cell_type": "code",
      "source": [
        "# Predict on a random data point\n",
        "# write an mse function that computer error over an entire set of features/labels\n",
        "\n",
        "def random_experiment(W, B, data_features, data_labels):\n",
        "    i = np.random.randint(len(data_features))\n",
        "    print(f\"Actual label: {np.argmax(data_labels[i])}\")\n",
        "    print(f\"Predicted label: {predict(W, B, data_features[i])}\")\n",
        "\n",
        "\n",
        "def MSE(W, B, X, y):\n",
        "    cost = 0.0\n",
        "    m = 0\n",
        "    for xi, yi in zip(X, y):\n",
        "        a = forward_pass(W, B, xi, predict_vector = True)\n",
        "        cost += mse(a, yi)\n",
        "        m+=1\n",
        "    return cost/m"
      ],
      "metadata": {
        "id": "cQBCyv_S5PAM"
      },
      "execution_count": null,
      "outputs": []
    },
    {
      "cell_type": "code",
      "source": [
        "# test it\n",
        "\n",
        "print(f\"MSE(W, B, flat_train_X, onehot_train_y) = {MSE(W, B, flat_train_X, onehot_train_y)} \\n\")\n",
        "\n",
        "random_experiment(W, B, flat_train_X, onehot_train_y)"
      ],
      "metadata": {
        "colab": {
          "base_uri": "https://localhost:8080/"
        },
        "id": "jT0NpbqM5bUD",
        "outputId": "6d181820-fd31-4def-8154-d6e7b77b40df"
      },
      "execution_count": null,
      "outputs": [
        {
          "output_type": "stream",
          "name": "stdout",
          "text": [
            "MSE(W, B, flat_train_X, onehot_train_y) = 0.821074350886074 \n",
            "\n",
            "Actual label: 3\n",
            "Predicted label: 1\n"
          ]
        }
      ]
    },
    {
      "cell_type": "markdown",
      "source": [
        "## Make Class and Initialize Neural Network\n"
      ],
      "metadata": {
        "id": "vE1gyt3JgfeJ"
      }
    },
    {
      "cell_type": "code",
      "source": [
        "# make a class that initializes the weights and bias for the network\n",
        "# implement stochastic gradient descent\n",
        "\n",
        "class DenseNetwork(object):\n",
        "    def __init__(self, layers = [784, 60, 60, 10]):\n",
        "        self.layers = layers\n",
        "        self.W, self.B = initialize_weights(layers = self.layers)\n",
        "\n",
        "    def train(self, X_train, y_train, alpha = 0.046, epochs = 4):\n",
        "        # Print the initial mean squared error\n",
        "        self.errors_ = [MSE(self.W, self.B, X_train, y_train)]\n",
        "        print(f\"Starting Cost = {self.errors_[0]}\")\n",
        "\n",
        "        # Find your sample size\n",
        "        sample_size = len(X_train)\n",
        "\n",
        "        # Find the number of non-input layers.\n",
        "        L = len(self.layers) - 1\n",
        "\n",
        "        # For each epoch perform stochastic gradient descent.\n",
        "        for k in range(epochs):\n",
        "            # Loop over each (xi, yi) training pair of data.\n",
        "            for xi, yi in zip(X_train, y_train):\n",
        "                # Use the forward pass function defined before\n",
        "                # and find the preactivation and postactivation values.\n",
        "                Z, A = forward_pass(self.W, self.B, xi)\n",
        "\n",
        "                # Store the errors in a dictionary for clear interpretation\n",
        "                # of computation of these values.\n",
        "                deltas = dict()\n",
        "\n",
        "                # GPT:Compute the output error (use softmax and cross-entropy instead)\n",
        "                output_error = A[L] - yi  # This assumes A[L] is already softmaxed\n",
        "\n",
        "                # GPT:You don't need d_sigmoid here since you're using softmax\n",
        "                deltas[L] = output_error  # No activation function applied after softmax\n",
        "\n",
        "\n",
        "                # Loop from L-1 to 1. Recall the right entry of the range function\n",
        "                # is non-inclusive.\n",
        "                for i in range(L-1, 0, -1):\n",
        "                    # Compute the node errors at each hidden layer\n",
        "                    #deltas[i] = (self.W[i+1].T @ deltas[i+1])*d_sigmoid(Z[i])\n",
        "                    deltas[i] = (self.W[i+1].T @ deltas[i+1]) * d_relu(Z[i])\n",
        "\n",
        "                # Loop over each hidden layer and the output layer to perform gradient\n",
        "                # descent.\n",
        "                for i in range(1, L+1):\n",
        "                    self.W[i] -= alpha*deltas[i] @ A[i-1].T\n",
        "                    self.B[i] -= alpha*deltas[i]\n",
        "\n",
        "            # Show the user the cost over all training examples\n",
        "            self.errors_.append(MSE(self.W, self.B, X_train, y_train))\n",
        "            print(f\"{k + 1}-Epoch Cost = {self.errors_[-1]}\")\n",
        "\n",
        "\n",
        "    def predict(self, xi):\n",
        "        depth = len(self.layers)\n",
        "        _, A = forward_pass(self.W, self.B, xi)\n",
        "        return np.argmax(A[-1])"
      ],
      "metadata": {
        "id": "SP2IvzO55wJo"
      },
      "execution_count": null,
      "outputs": []
    },
    {
      "cell_type": "code",
      "source": [
        "# Initialize a network with 784 input nodes, two hidden layers with 60 nodes each\n",
        "# and a output layer with 10 nodes.\n",
        "net = DenseNetwork(layers = [784, 120, 145, 120, 10])\n",
        "\n",
        "# Check the mean squared error before training\n",
        "print(f\"MSE(net.W, net.B, flat_train_X, onehot_train_y) = {MSE(net.W, net.B, flat_train_X, onehot_train_y)} \\n\")\n",
        "\n",
        "# Make a random prediction before training\n",
        "i = np.random.randint(0, len(flat_test_X))\n",
        "prediction = net.predict(flat_test_X[i])\n",
        "print(f\"predicted digit is: {prediction}\")\n",
        "print(f\"actual digit is: {np.argmax(onehot_test_y[i])}\")\n",
        "plt.figure(figsize=(8, 8))\n",
        "plt.imshow(test_X[i], cmap=\"gray\")\n",
        "plt.show()\n",
        "\n",
        "#noticed this ReLU approach is slightly faster than the lecture code, which was done with sigmoid"
      ],
      "metadata": {
        "colab": {
          "base_uri": "https://localhost:8080/",
          "height": 747
        },
        "id": "KVuRWNdC9vKD",
        "outputId": "25748146-0f3c-4ca0-b71e-fe364c8c93e6"
      },
      "execution_count": null,
      "outputs": [
        {
          "output_type": "stream",
          "name": "stdout",
          "text": [
            "MSE(net.W, net.B, flat_train_X, onehot_train_y) = 0.6441634643544764 \n",
            "\n",
            "predicted digit is: 7\n",
            "actual digit is: 3\n"
          ]
        },
        {
          "output_type": "display_data",
          "data": {
            "text/plain": [
              "<Figure size 800x800 with 1 Axes>"
            ],
            "image/png": "[encoded data removed]"
          },
          "metadata": {}
        }
      ]
    },
    {
      "cell_type": "markdown",
      "source": [
        "## Train the Network\n",
        "Using the half of data set aside for training and the class developed above, train the neural network on the images to make more accurate predictions."
      ],
      "metadata": {
        "id": "bX4UWMHHgwA6"
      }
    },
    {
      "cell_type": "code",
      "source": [
        "#Train the network using stochastic gradient descent!\n",
        "net.train(flat_train_X, onehot_train_y)\n",
        "#finished in 5 min and 35 sec, compared to lecture sigmoid's 6 min and 23 sec\n",
        "#4-epoch cost of 0.018658, compared to lecture's 0.032786"
      ],
      "metadata": {
        "colab": {
          "base_uri": "https://localhost:8080/"
        },
        "id": "-YWpVF1E-U4C",
        "outputId": "199d33d2-321e-4dfe-b079-8713b75dbb99"
      },
      "execution_count": null,
      "outputs": [
        {
          "output_type": "stream",
          "name": "stdout",
          "text": [
            "Starting Cost = 0.6441634643544764\n",
            "1-Epoch Cost = 0.039979741548699516\n",
            "2-Epoch Cost = 0.0293216520680808\n",
            "3-Epoch Cost = 0.023359975104599622\n",
            "4-Epoch Cost = 0.018658343124590714\n"
          ]
        }
      ]
    },
    {
      "cell_type": "markdown",
      "source": [
        "## Visualize the Training and Results\n",
        "One way to see how the model improves over time is to observe how the error (in this case, MSE) decreases over time spent training. This plot is shown below, as well as a few examples of successful tests on the group of data reserved for testing/verification."
      ],
      "metadata": {
        "id": "BeGTOSZUhUf4"
      }
    },
    {
      "cell_type": "code",
      "source": [
        "# Visualize the mean squared error over the training process\n",
        "plt.figure(figsize = (10, 8))\n",
        "epochs = range(len(net.errors_))\n",
        "plt.plot(epochs, net.errors_, marker = \"o\")\n",
        "plt.xticks(epochs)\n",
        "plt.xlabel(\"epochs\")\n",
        "plt.ylabel(\"Mean Squared Error\")\n",
        "plt.title(\"Network MSE During Training\", fontsize = 16)\n",
        "plt.show()\n"
      ],
      "metadata": {
        "colab": {
          "base_uri": "https://localhost:8080/",
          "height": 720
        },
        "id": "mgHfsuWwANyl",
        "outputId": "7175b199-7aca-44cc-af77-f9e10a8a3cd1"
      },
      "execution_count": null,
      "outputs": [
        {
          "output_type": "display_data",
          "data": {
            "text/plain": [
              "<Figure size 1000x800 with 1 Axes>"
            ],
            "image/png": "[encoded data removed]"
          },
          "metadata": {}
        }
      ]
    },
    {
      "cell_type": "code",
      "source": [
        "i = np.random.randint(0, len(flat_test_X))\n",
        "prediction = net.predict(flat_test_X[i])\n",
        "print(f\"predicted digit is: {prediction}\")\n",
        "print(f\"actual digit is: {np.argmax(onehot_test_y[i])}\")\n",
        "plt.figure(figsize=(8, 8))\n",
        "plt.imshow(test_X[i], cmap=\"gray\")\n",
        "plt.show()"
      ],
      "metadata": {
        "colab": {
          "base_uri": "https://localhost:8080/",
          "height": 712
        },
        "id": "65JduDDsAc6x",
        "outputId": "954d006a-418f-48ee-fe70-fab0de4a08e9"
      },
      "execution_count": null,
      "outputs": [
        {
          "output_type": "stream",
          "name": "stdout",
          "text": [
            "predicted digit is: 5\n",
            "actual digit is: 5\n"
          ]
        },
        {
          "output_type": "display_data",
          "data": {
            "text/plain": [
              "<Figure size 800x800 with 1 Axes>"
            ],
            "image/png": "[encoded data removed]"
          },
          "metadata": {}
        }
      ]
    },
    {
      "cell_type": "code",
      "source": [
        "i = np.random.randint(0, len(flat_test_X))\n",
        "prediction = net.predict(flat_test_X[i])\n",
        "print(f\"predicted digit is: {prediction}\")\n",
        "print(f\"actual digit is: {np.argmax(onehot_test_y[i])}\")\n",
        "plt.figure(figsize=(8, 8))\n",
        "plt.imshow(test_X[i], cmap=\"gray\")\n",
        "plt.show()"
      ],
      "metadata": {
        "colab": {
          "base_uri": "https://localhost:8080/",
          "height": 712
        },
        "id": "A3vZ5eOuAiw4",
        "outputId": "65d9281b-abcb-4d5d-f7cd-aa0443f4af52"
      },
      "execution_count": null,
      "outputs": [
        {
          "output_type": "stream",
          "name": "stdout",
          "text": [
            "predicted digit is: 7\n",
            "actual digit is: 7\n"
          ]
        },
        {
          "output_type": "display_data",
          "data": {
            "text/plain": [
              "<Figure size 800x800 with 1 Axes>"
            ],
            "image/png": "[encoded data removed]"
          },
          "metadata": {}
        }
      ]
    },
    {
      "cell_type": "code",
      "source": [
        "i = np.random.randint(0, len(flat_test_X))\n",
        "prediction = net.predict(flat_test_X[i])\n",
        "print(f\"predicted digit is: {prediction}\")\n",
        "print(f\"actual digit is: {np.argmax(onehot_test_y[i])}\")\n",
        "plt.figure(figsize=(8, 8))\n",
        "plt.imshow(test_X[i], cmap=\"gray\")\n",
        "plt.show()"
      ],
      "metadata": {
        "colab": {
          "base_uri": "https://localhost:8080/",
          "height": 712
        },
        "id": "VV8whLwqAlzX",
        "outputId": "400bf8eb-4a0a-4b8c-ec3b-9a1abc9338be"
      },
      "execution_count": null,
      "outputs": [
        {
          "output_type": "stream",
          "name": "stdout",
          "text": [
            "predicted digit is: 9\n",
            "actual digit is: 9\n"
          ]
        },
        {
          "output_type": "display_data",
          "data": {
            "text/plain": [
              "<Figure size 800x800 with 1 Axes>"
            ],
            "image/png": "[encoded data removed]"
          },
          "metadata": {}
        }
      ]
    },
    {
      "cell_type": "code",
      "source": [
        "# Calculate classification accuracy of trained model\n",
        "sum([int(net.predict(x) == y) for x, y in zip(flat_test_X, test_y)])/len(onehot_test_y)\n",
        "\n",
        "# Approx 1.5% better performance than sigmoid lecture code"
      ],
      "metadata": {
        "colab": {
          "base_uri": "https://localhost:8080/"
        },
        "id": "9V9TU28nAqtA",
        "outputId": "0825920e-a499-4efd-9ad1-e11d133d63bf"
      },
      "execution_count": null,
      "outputs": [
        {
          "output_type": "execute_result",
          "data": {
            "text/plain": [
              "0.9694"
            ]
          },
          "metadata": {},
          "execution_count": 28
        }
      ]
    },
    {
      "cell_type": "markdown",
      "source": [
        "The overall accuracy on the testing data is 96.94% in this example, which was about 1.5% better performance using ReLU than sigmoid. The neural network model can correctly classify the handwritten number about 97% of the time after being trained!"
      ],
      "metadata": {
        "id": "Da3hf_SGjvWK"
      }
    }
  ],
  "metadata": {
    "kernelspec": {
      "display_name": "Python 3.10.5",
      "language": "python",
      "name": "python3"
    },
    "language_info": {
      "codemirror_mode": {
        "name": "ipython",
        "version": 3
      },
      "file_extension": ".py",
      "mimetype": "text/x-python",
      "name": "python",
      "nbconvert_exporter": "python",
      "pygments_lexer": "ipython3",
      "version": "3.10.5"
    },
    "vscode": {
      "interpreter": {
        "hash": "60d347b1b00434e3109b3f59c5a731168507f4d33f1c02fc1f75d9db6931c10a"
      }
    },
    "colab": {
      "provenance": [],
      "include_colab_link": true
    }
  },
  "nbformat": 4,
  "nbformat_minor": 0
}
